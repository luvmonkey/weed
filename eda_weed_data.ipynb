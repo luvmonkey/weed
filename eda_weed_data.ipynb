{
 "cells": [
  {
   "attachments": {},
   "cell_type": "markdown",
   "metadata": {},
   "source": [
    "# Exploratory Data Analysis for Weed.csv"
   ]
  },
  {
   "cell_type": "code",
   "execution_count": 2,
   "metadata": {},
   "outputs": [],
   "source": [
    "# Import libraries\n",
    "\n",
    "import pandas as pd"
   ]
  },
  {
   "cell_type": "code",
   "execution_count": 3,
   "metadata": {},
   "outputs": [
    {
     "name": "stdout",
     "output_type": "stream",
     "text": [
      "   Unnamed: 0          name    type  thc_level most_common_terpene  relaxed  \\\n",
      "0           0           GG4  Hybrid       20.0       Caryophyllene     66.0   \n",
      "1           1  Wedding Cake  Hybrid       22.0            Limonene     60.0   \n",
      "2           2         Runtz  Hybrid       19.0            Limonene     47.0   \n",
      "3           3        Gelato  Hybrid       17.0       Caryophyllene     54.0   \n",
      "4           4    Blue Dream  Hybrid       18.0             Myrcene     48.0   \n",
      "\n",
      "   happy  euphoric  uplifted  sleepy  ...  fibromyalgia  crohns_disease  \\\n",
      "0   54.0      51.0      39.0    27.0  ...           0.0             0.0   \n",
      "1   50.0      41.0      35.0     0.0  ...           0.0             0.0   \n",
      "2   62.0      48.0      43.0     0.0  ...           0.0             0.0   \n",
      "3   49.0      46.0      37.0     0.0  ...           0.0             0.0   \n",
      "4   57.0      52.0      48.0     0.0  ...           0.0             0.0   \n",
      "\n",
      "   phantom_limb_pain  epilepsy  multiple_sclerosis  parkinsons  \\\n",
      "0                0.0       0.0                 0.0         0.0   \n",
      "1                0.0       0.0                 0.0         0.0   \n",
      "2                0.0       0.0                 0.0         0.0   \n",
      "3                0.0       0.0                 0.0         0.0   \n",
      "4                0.0       0.0                 0.0         0.0   \n",
      "\n",
      "   tourettes_syndrome  alzheimers  hiv/aids  tinnitus  \n",
      "0                 0.0         0.0       0.0         0  \n",
      "1                 0.0         0.0       0.0         0  \n",
      "2                 0.0         0.0       0.0         0  \n",
      "3                 0.0         0.0       0.0         0  \n",
      "4                 0.0         0.0       0.0         0  \n",
      "\n",
      "[5 rows x 63 columns]\n"
     ]
    }
   ],
   "source": [
    "# Load data\n",
    "weed_data_raw = pd.read_csv('weed.csv')\n",
    "\n",
    "print(weed_data_raw.head())"
   ]
  },
  {
   "cell_type": "code",
   "execution_count": 4,
   "metadata": {},
   "outputs": [
    {
     "name": "stdout",
     "output_type": "stream",
     "text": [
      "<class 'pandas.core.frame.DataFrame'>\n",
      "RangeIndex: 4762 entries, 0 to 4761\n",
      "Data columns (total 63 columns):\n",
      " #   Column                     Non-Null Count  Dtype  \n",
      "---  ------                     --------------  -----  \n",
      " 0   Unnamed: 0                 4762 non-null   int64  \n",
      " 1   name                       4762 non-null   object \n",
      " 2   type                       4107 non-null   object \n",
      " 3   thc_level                  2735 non-null   float64\n",
      " 4   most_common_terpene        2447 non-null   object \n",
      " 5   relaxed                    4762 non-null   float64\n",
      " 6   happy                      4762 non-null   float64\n",
      " 7   euphoric                   4762 non-null   float64\n",
      " 8   uplifted                   4762 non-null   float64\n",
      " 9   sleepy                     4762 non-null   float64\n",
      " 10  dry_mouth                  4762 non-null   float64\n",
      " 11  dry_eyes                   4762 non-null   float64\n",
      " 12  dizzy                      4762 non-null   float64\n",
      " 13  paranoid                   4762 non-null   float64\n",
      " 14  anxious                    4762 non-null   float64\n",
      " 15  stress                     4762 non-null   float64\n",
      " 16  pain                       4762 non-null   float64\n",
      " 17  depression                 4762 non-null   float64\n",
      " 18  anxiety                    4762 non-null   float64\n",
      " 19  insomnia                   4762 non-null   float64\n",
      " 20  hungry                     4762 non-null   float64\n",
      " 21  talkative                  4762 non-null   float64\n",
      " 22  headache                   4762 non-null   float64\n",
      " 23  ptsd                       4762 non-null   float64\n",
      " 24  creative                   4762 non-null   float64\n",
      " 25  energetic                  4762 non-null   float64\n",
      " 26  fatigue                    4762 non-null   float64\n",
      " 27  focused                    4762 non-null   float64\n",
      " 28  giggly                     4762 non-null   float64\n",
      " 29  lack_of_appetite           4762 non-null   float64\n",
      " 30  nausea                     4762 non-null   float64\n",
      " 31  headaches                  4762 non-null   float64\n",
      " 32  bipolar_disorder           4762 non-null   float64\n",
      " 33  cancer                     4762 non-null   float64\n",
      " 34  tingly                     4762 non-null   float64\n",
      " 35  cramps                     4762 non-null   float64\n",
      " 36  aroused                    4762 non-null   float64\n",
      " 37  gastrointestinal_disorder  4762 non-null   float64\n",
      " 38  inflammation               4762 non-null   float64\n",
      " 39  muscle_spasms              4762 non-null   float64\n",
      " 40  eye_pressure               4762 non-null   float64\n",
      " 41  migraines                  4762 non-null   float64\n",
      " 42  asthma                     4762 non-null   float64\n",
      " 43  anorexia                   4762 non-null   float64\n",
      " 44  arthritis                  4762 non-null   float64\n",
      " 45  add/adhd                   4762 non-null   float64\n",
      " 46  muscular_dystrophy         4762 non-null   float64\n",
      " 47  hypertension               4762 non-null   float64\n",
      " 48  glaucoma                   4762 non-null   float64\n",
      " 49  pms                        4762 non-null   float64\n",
      " 50  seizures                   4762 non-null   float64\n",
      " 51  spasticity                 4762 non-null   float64\n",
      " 52  spinal_cord_injury         4762 non-null   float64\n",
      " 53  fibromyalgia               4762 non-null   float64\n",
      " 54  crohns_disease             4762 non-null   float64\n",
      " 55  phantom_limb_pain          4762 non-null   float64\n",
      " 56  epilepsy                   4762 non-null   float64\n",
      " 57  multiple_sclerosis         4762 non-null   float64\n",
      " 58  parkinsons                 4762 non-null   float64\n",
      " 59  tourettes_syndrome         4762 non-null   float64\n",
      " 60  alzheimers                 4762 non-null   float64\n",
      " 61  hiv/aids                   4762 non-null   float64\n",
      " 62  tinnitus                   4762 non-null   int64  \n",
      "dtypes: float64(58), int64(2), object(3)\n",
      "memory usage: 2.3+ MB\n",
      "None\n"
     ]
    }
   ],
   "source": [
    "# Explore Data\n",
    "print(weed_data_raw.info())"
   ]
  },
  {
   "attachments": {},
   "cell_type": "markdown",
   "metadata": {},
   "source": [
    "The following columns contain null values:\n",
    "* type\n",
    "* thc_level\n",
    "* most_common_terpene\n",
    "\n",
    "Let's investigate!"
   ]
  },
  {
   "cell_type": "code",
   "execution_count": 17,
   "metadata": {},
   "outputs": [
    {
     "name": "stdout",
     "output_type": "stream",
     "text": [
      "Unnamed: 0                0\n",
      "cancer                    0\n",
      "tingly                    0\n",
      "cramps                    0\n",
      "aroused                   0\n",
      "                       ... \n",
      "ptsd                      0\n",
      "tinnitus                  0\n",
      "type                    655\n",
      "thc_level              2027\n",
      "most_common_terpene    2315\n",
      "Length: 63, dtype: int64\n"
     ]
    }
   ],
   "source": [
    "print(weed_data_raw.isnull().sum().sort_values())"
   ]
  },
  {
   "cell_type": "code",
   "execution_count": 21,
   "metadata": {},
   "outputs": [
    {
     "name": "stdout",
     "output_type": "stream",
     "text": [
      "Hybrid    2772\n",
      "Indica     825\n",
      "Sativa     510\n",
      "Name: type, dtype: int64\n"
     ]
    }
   ],
   "source": [
    "print(weed_data_raw.type.value_counts())"
   ]
  },
  {
   "attachments": {},
   "cell_type": "markdown",
   "metadata": {},
   "source": [
    "These..."
   ]
  },
  {
   "cell_type": "code",
   "execution_count": 23,
   "metadata": {},
   "outputs": [
    {
     "name": "stdout",
     "output_type": "stream",
     "text": [
      "Myrcene          1195\n",
      "Caryophyllene     452\n",
      "Limonene          371\n",
      "Terpinolene       302\n",
      "Pinene            100\n",
      "Ocimene            16\n",
      "Linalool            8\n",
      "Humulene            3\n",
      "Name: most_common_terpene, dtype: int64\n"
     ]
    }
   ],
   "source": [
    "print(weed_data_raw.most_common_terpene.value_counts())"
   ]
  },
  {
   "attachments": {},
   "cell_type": "markdown",
   "metadata": {},
   "source": [
    "These 8 terpenes contribute to the aromas of the weed. Limonene, for instance, is commonly found in many citrus fruits and is associated with a lemony aroma. Caryophyllene, on the other hand, is most closely associated with black pepper and the corresponding aroma. "
   ]
  }
 ],
 "metadata": {
  "kernelspec": {
   "display_name": "base",
   "language": "python",
   "name": "python3"
  },
  "language_info": {
   "codemirror_mode": {
    "name": "ipython",
    "version": 3
   },
   "file_extension": ".py",
   "mimetype": "text/x-python",
   "name": "python",
   "nbconvert_exporter": "python",
   "pygments_lexer": "ipython3",
   "version": "3.9.12"
  },
  "orig_nbformat": 4,
  "vscode": {
   "interpreter": {
    "hash": "40d3a090f54c6569ab1632332b64b2c03c39dcf918b08424e98f38b5ae0af88f"
   }
  }
 },
 "nbformat": 4,
 "nbformat_minor": 2
}
