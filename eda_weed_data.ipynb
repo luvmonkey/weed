{
 "cells": [
  {
   "attachments": {},
   "cell_type": "markdown",
   "metadata": {},
   "source": [
    "# Data Cleaning for Weed.csv"
   ]
  },
  {
   "cell_type": "code",
   "execution_count": 2,
   "metadata": {},
   "outputs": [],
   "source": [
    "# Import libraries\n",
    "\n",
    "import pandas as pd"
   ]
  },
  {
   "cell_type": "code",
   "execution_count": 3,
   "metadata": {},
   "outputs": [
    {
     "name": "stdout",
     "output_type": "stream",
     "text": [
      "   Unnamed: 0          name    type  thc_level most_common_terpene  relaxed  \\\n",
      "0           0           GG4  Hybrid       20.0       Caryophyllene     66.0   \n",
      "1           1  Wedding Cake  Hybrid       22.0            Limonene     60.0   \n",
      "2           2         Runtz  Hybrid       19.0            Limonene     47.0   \n",
      "3           3        Gelato  Hybrid       17.0       Caryophyllene     54.0   \n",
      "4           4    Blue Dream  Hybrid       18.0             Myrcene     48.0   \n",
      "\n",
      "   happy  euphoric  uplifted  sleepy  ...  fibromyalgia  crohns_disease  \\\n",
      "0   54.0      51.0      39.0    27.0  ...           0.0             0.0   \n",
      "1   50.0      41.0      35.0     0.0  ...           0.0             0.0   \n",
      "2   62.0      48.0      43.0     0.0  ...           0.0             0.0   \n",
      "3   49.0      46.0      37.0     0.0  ...           0.0             0.0   \n",
      "4   57.0      52.0      48.0     0.0  ...           0.0             0.0   \n",
      "\n",
      "   phantom_limb_pain  epilepsy  multiple_sclerosis  parkinsons  \\\n",
      "0                0.0       0.0                 0.0         0.0   \n",
      "1                0.0       0.0                 0.0         0.0   \n",
      "2                0.0       0.0                 0.0         0.0   \n",
      "3                0.0       0.0                 0.0         0.0   \n",
      "4                0.0       0.0                 0.0         0.0   \n",
      "\n",
      "   tourettes_syndrome  alzheimers  hiv/aids  tinnitus  \n",
      "0                 0.0         0.0       0.0         0  \n",
      "1                 0.0         0.0       0.0         0  \n",
      "2                 0.0         0.0       0.0         0  \n",
      "3                 0.0         0.0       0.0         0  \n",
      "4                 0.0         0.0       0.0         0  \n",
      "\n",
      "[5 rows x 63 columns]\n"
     ]
    }
   ],
   "source": [
    "weed_data_raw = pd.read_csv('weed.csv')\n",
    "\n",
    "print(weed_data_raw.head())"
   ]
  }
 ],
 "metadata": {
  "kernelspec": {
   "display_name": "base",
   "language": "python",
   "name": "python3"
  },
  "language_info": {
   "codemirror_mode": {
    "name": "ipython",
    "version": 3
   },
   "file_extension": ".py",
   "mimetype": "text/x-python",
   "name": "python",
   "nbconvert_exporter": "python",
   "pygments_lexer": "ipython3",
   "version": "3.9.12"
  },
  "orig_nbformat": 4,
  "vscode": {
   "interpreter": {
    "hash": "40d3a090f54c6569ab1632332b64b2c03c39dcf918b08424e98f38b5ae0af88f"
   }
  }
 },
 "nbformat": 4,
 "nbformat_minor": 2
}
